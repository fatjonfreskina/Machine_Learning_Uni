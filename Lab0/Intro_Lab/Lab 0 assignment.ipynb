{
 "cells": [
  {
   "cell_type": "markdown",
   "metadata": {},
   "source": [
    "# Hands-on exercise\n",
    "\n",
    "In this simple example you are required to perform a simple linear regression with scipy. Find all the information on the function in the documentation: https://docs.scipy.org/doc/scipy/reference/generated/scipy.stats.linregress.html"
   ]
  },
  {
   "cell_type": "markdown",
   "metadata": {},
   "source": [
    "### Assignment\n",
    "\n",
    "1) Load the provided .csv file with the used car data\n",
    "\n",
    "2) Use a linear regression to estimate the car prices from the year, kilometers or engine power. You can make a simple 1D regression from each one of the parameters independently (as an optional task you can also try a 2D or 3D regression combining multiple cues)\n",
    "\n",
    "3) Firstly perform the estimation using the scipy linregress function (or alternatively you can use the sklearn.linear_model.LinearRegression class).\n",
    "NB: check the documentation of the two methods!! In particular be aware of the number of outputs (in case use \"_\" to avoid the return of a specific output).\n",
    "\n",
    "4) Have a look at the correlation coefficient to see which of the 3 features works better\n",
    "\n",
    "5) Then implement the least square algorithm: you should get exactly the same solution of linregress !\n",
    "\n",
    "6) Plot the data and the lines representing the output of the linregress and least square algorithms\n"
   ]
  },
  {
   "cell_type": "code",
   "execution_count": 83,
   "metadata": {},
   "outputs": [],
   "source": [
    "import matplotlib.pyplot as plt\n",
    "import csv\n",
    "from scipy import stats\n",
    "import numpy as np\n",
    "import sklearn as sl\n",
    "from sklearn.metrics import mean_squared_error, r2_score\n",
    "from sklearn import linear_model"
   ]
  },
  {
   "cell_type": "code",
   "execution_count": 84,
   "metadata": {},
   "outputs": [
    {
     "name": "stdout",
     "output_type": "stream",
     "text": [
      "Dataset: \n",
      " [['km' 'year' 'powerPS' 'avgPrice']\n",
      " ['125000' '2001' '40' '1371.11']\n",
      " ['150000' '2001' '40' '1298.70']\n",
      " ...\n",
      " ['20000' '2015' '260' '49492.38']\n",
      " ['10000' '2015' '300' '38542.69']\n",
      " ['20000' '2015' '300' '39683.32']]\n",
      "Kilometers: \n",
      " [125000. 150000.   5000. ...  20000.  10000.  20000.] , shape: (1297,)\n",
      "Years: \n",
      " [2001 2001 2001 ... 2015 2015 2015] , shape: (1297,)\n",
      "Power PS: \n",
      " [ 40.  40.  60. ... 260. 300. 300.] , shape: (1297,)\n",
      "Average price: \n",
      " [ 1371.11  1298.7   1232.43 ... 49492.38 38542.69 39683.32] , shape: (1297,)\n"
     ]
    }
   ],
   "source": [
    "# Load the provided data file with the used car data (you can also have a look at it with any text editor)\n",
    "\n",
    "file_path = \"data/km_year_power_price.csv\"\n",
    "lines = csv.reader(open(file_path, newline=''), delimiter=',')\n",
    "dataset = list(lines)\n",
    "dataset = np.array(dataset)\n",
    "print(\"Dataset: \\n\", dataset)\n",
    "\n",
    "#'km' 'year' 'powerPS' 'avgPrice'\n",
    "\n",
    "kilometers = dataset[:,0]               #select rows of column \"km\"\n",
    "kilometers = np.squeeze(kilometers)     #deletes empty dimension\n",
    "kilometers = np.delete(kilometers, [0]) #deletes \"km\"\n",
    "#another way:\n",
    "#elementIndex = np.where(kilometers == \"km\")[0][0]\n",
    "#kilometers = np.delete(kilometers, elementIndex)\n",
    "kilometers = kilometers.astype(float) #converts to int\n",
    "print(\"Kilometers: \\n\", kilometers, \", shape:\", kilometers.shape)\n",
    "\n",
    "\n",
    "years = dataset[:,1]               \n",
    "years = np.squeeze(years)        \n",
    "years = np.delete(years, [0])\n",
    "years = years.astype(int)\n",
    "print(\"Years: \\n\", years, \", shape:\", years.shape)\n",
    "\n",
    "\n",
    "powerPS = dataset[:,2]               \n",
    "powerPS = np.squeeze(powerPS)        \n",
    "powerPS = np.delete(powerPS, [0])\n",
    "powerPS = powerPS.astype(float)\n",
    "print(\"Power PS: \\n\", powerPS, \", shape:\", powerPS.shape)\n",
    "\n",
    "avgPrice = dataset[:,3]               \n",
    "avgPrice = np.squeeze(avgPrice)     \n",
    "avgPrice = np.delete(avgPrice, [0]) \n",
    "avgPrice = avgPrice.astype(float) \n",
    "print(\"Average price: \\n\", avgPrice, \", shape:\", avgPrice.shape)\n",
    "\n"
   ]
  },
  {
   "cell_type": "markdown",
   "metadata": {},
   "source": [
    "Use linear regression to estimate the car prices from the year, kilometers or engine power. \n",
    "You can make a simple 1D regression from each one of the parameters independently \n",
    "\n",
    "\n"
   ]
  },
  {
   "cell_type": "code",
   "execution_count": null,
   "metadata": {},
   "outputs": [],
   "source": []
  },
  {
   "cell_type": "code",
   "execution_count": 123,
   "metadata": {},
   "outputs": [
    {
     "name": "stdout",
     "output_type": "stream",
     "text": [
      "intercept:  -3018309.484956958 | slope:  1509.093825335221\n",
      "Correlation for price from year:  0.6767043169095441\n"
     ]
    },
    {
     "data": {
      "image/png": "[encoded data removed]",
      "text/plain": [
       "<Figure size 432x288 with 1 Axes>"
      ]
     },
     "metadata": {
      "needs_background": "light"
     },
     "output_type": "display_data"
    }
   ],
   "source": [
    "# linear regression with linregress (estimate price from year)\n",
    "year_regression = stats.linregress(years, avgPrice)\n",
    "year_slope = year_regression.slope\n",
    "year_intercept = year_regression.intercept\n",
    "year_correlation = year_regression.rvalue\n",
    "print('intercept: ', year_intercept, '| slope: ', year_slope)\n",
    "print(\"Correlation for price from year: \", year_correlation)\n",
    "\n",
    "#with scikit linear regression object\n",
    "regr = linear_model.LinearRegression()\n",
    "years_reshaped = years.reshape(-1, 1)\n",
    "avgPrice_reshaped = avgPrice.reshape(-1, 1)\n",
    "regr.fit(years_reshaped, avgPrice_reshaped)\n",
    "\n",
    "#\"Should be as close as possible to abs(1)\"\n",
    "plt.plot(years, avgPrice, 'o', label = \"original data\")\n",
    "plt.plot(years, year_intercept + year_slope * years, \"r\", label = 'fitted line')\n",
    "plt.legend()\n",
    "plt.xlabel('Year', fontsize=14)\n",
    "plt.ylabel('Price', fontsize = 14)\n",
    "plt.show()"
   ]
  },
  {
   "cell_type": "code",
   "execution_count": 86,
   "metadata": {},
   "outputs": [],
   "source": [
    "# (Optional) linear regression with linear_model.LinearRegression() (estimate price from year)\n",
    "# Recall that in Python a mx1 matrix is different from a 1D array -> need to reshape"
   ]
  },
  {
   "cell_type": "code",
   "execution_count": 87,
   "metadata": {
    "scrolled": true
   },
   "outputs": [],
   "source": [
    "# (Optional) perform linear regression with a manually implemented least squares (estimate price from year)\n",
    "# You should get exactly the same solution of linregress !"
   ]
  },
  {
   "cell_type": "code",
   "execution_count": 88,
   "metadata": {},
   "outputs": [],
   "source": [
    "# Plot the data and the lines representing the output of the linregress and least square algorithms"
   ]
  },
  {
   "cell_type": "code",
   "execution_count": 122,
   "metadata": {
    "scrolled": true
   },
   "outputs": [
    {
     "name": "stdout",
     "output_type": "stream",
     "text": [
      "intercept:  -1303.9126989879878 | slope:  90.33080718820227\n",
      "Correlation for price from power:  0.7085500315263966\n"
     ]
    },
    {
     "data": {
      "image/png": "[encoded data removed]",
      "text/plain": [
       "<Figure size 432x288 with 1 Axes>"
      ]
     },
     "metadata": {
      "needs_background": "light"
     },
     "output_type": "display_data"
    }
   ],
   "source": [
    "# linear regression with linregress (PRICE FROM POWER)\n",
    "power_regression = stats.linregress(powerPS, avgPrice)\n",
    "power_slope = power_regression.slope\n",
    "power_intercept = power_regression.intercept\n",
    "power_correlation = power_regression.rvalue\n",
    "print('intercept: ', power_intercept, '| slope: ', power_slope)\n",
    "print(\"Correlation for price from power: \", power_correlation)\n",
    "plt.plot(powerPS, avgPrice, 'o', label = \"original data\")\n",
    "plt.plot(powerPS, power_intercept + power_slope * powerPS, \"r\", label = 'fitted line')\n",
    "plt.xlabel('Power', fontsize=14)\n",
    "plt.ylabel('Price', fontsize = 14)\n",
    "plt.legend()\n",
    "plt.show()"
   ]
  },
  {
   "cell_type": "code",
   "execution_count": 121,
   "metadata": {},
   "outputs": [
    {
     "name": "stdout",
     "output_type": "stream",
     "text": [
      "intercept:  16692.34530251974 | slope:  -0.054251513309725684\n",
      "Correlation for price from km:  -0.2572867429988498\n"
     ]
    },
    {
     "data": {
      "image/png": "[encoded data removed]",
      "text/plain": [
       "<Figure size 432x288 with 1 Axes>"
      ]
     },
     "metadata": {
      "needs_background": "light"
     },
     "output_type": "display_data"
    }
   ],
   "source": [
    "# linear regression with linregress (PRICE FROM KM)\n",
    "km_regression = stats.linregress(kilometers, avgPrice)\n",
    "km_slope = km_regression.slope\n",
    "km_intercept = km_regression.intercept\n",
    "km_correlation = km_regression.rvalue\n",
    "print('intercept: ', km_intercept, '| slope: ', km_slope)\n",
    "print(\"Correlation for price from km: \", km_correlation)\n",
    "\n",
    "\n",
    "plt.plot(kilometers, avgPrice, 'o', label = \"original data\")\n",
    "plt.plot(kilometers, km_intercept + km_slope*kilometers, \"r\", label = 'fitted line')\n",
    "plt.legend()\n",
    "plt.xlabel('Kilometers', fontsize=14)\n",
    "plt.ylabel('Price', fontsize = 14)\n",
    "plt.show()\n"
   ]
  },
  {
   "cell_type": "code",
   "execution_count": 91,
   "metadata": {},
   "outputs": [
    {
     "name": "stdout",
     "output_type": "stream",
     "text": [
      "{'Correlation_for_km': -0.2572867429988498, 'Correlation_for_year': 0.6767043169095441, 'Correlation_for_power': 0.7085500315263966}\n"
     ]
    }
   ],
   "source": [
    "# Have a look at the correlation coefficients to see which of the 3 features works better\n",
    "correlation_factors = {\n",
    "    \"Correlation_for_km\" : km_correlation,\n",
    "    \"Correlation_for_year\" : year_correlation,\n",
    "    \"Correlation_for_power\" : power_correlation\n",
    "}\n",
    "print(correlation_factors)"
   ]
  },
  {
   "cell_type": "code",
   "execution_count": 132,
   "metadata": {},
   "outputs": [
    {
     "name": "stdout",
     "output_type": "stream",
     "text": [
      "intercept:  -2661196.786749032 | slope: 1325.2284004046458 80.43004468885395\n",
      "[-6197.55575178 -6197.55575178 -4588.954858   ... 30050.25168543\n",
      " 33267.45347299 33267.45347299]\n",
      "prediction 1: -6197.55575178148 | original price 1:  1371.11 | difference:  7568.665751781479\n",
      "[ 7568.66575178  7496.25575178  5821.384858   ... 19442.12831457\n",
      "  5275.23652701  6415.86652701]\n"
     ]
    }
   ],
   "source": [
    "# (Optional) 2D linear regression with linear model (estimate price from year and power)\n",
    "years_listed = list(years)\n",
    "years_array = np.array(years_listed)\n",
    "\n",
    "power_listed = list(powerPS)\n",
    "power_array = np.array(power_listed)\n",
    "\n",
    "column_years_power = np.column_stack([years_array, power_array]) #has shape (1297,2)\n",
    "\n",
    "regr = linear_model.LinearRegression()\n",
    "regr.fit(column_years_power, avgPrice)\n",
    "\n",
    "multiple_intercept = regr.intercept_\n",
    "multiple_slope = regr.coef_\n",
    "years_slope = two_dim_coefficients[0]\n",
    "power_slope = two_dim_coefficients[1]\n",
    "print('intercept: ', multiple_intercept,'| slope:' ,years_slope, power_slope)\n",
    "\n",
    "y = multiple_intercept + (years_slope * years_array) + (power_slope * power_array)\n",
    "print(y)\n",
    "test = list(y)\n",
    "print('prediction 1:' ,test[0], '| original price 1: ', avgPrice[0],'| difference: ', avgPrice[0] - test[0] )\n",
    "error_vector = avgPrice - y\n",
    "\n",
    "print(error_vector)\n",
    "\n",
    "# So now the prediction is \n",
    "# Price = intercept + year_slope * years + power_slope * power\n",
    "# y = q + mX1 + nX2 \n",
    "# ... you just performed a multiple linear regression, time to celebrate\n",
    "\n",
    "\n"
   ]
  },
  {
   "cell_type": "code",
   "execution_count": null,
   "metadata": {},
   "outputs": [],
   "source": []
  }
 ],
 "metadata": {
  "kernelspec": {
   "display_name": "Python 3",
   "language": "python",
   "name": "python3"
  },
  "language_info": {
   "codemirror_mode": {
    "name": "ipython",
    "version": 3
   },
   "file_extension": ".py",
   "mimetype": "text/x-python",
   "name": "python",
   "nbconvert_exporter": "python",
   "pygments_lexer": "ipython3",
   "version": "3.8.8"
  }
 },
 "nbformat": 4,
 "nbformat_minor": 2
}
